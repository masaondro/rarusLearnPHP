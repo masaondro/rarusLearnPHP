{
 "cells": [
  {
   "cell_type": "code",
   "execution_count": 9,
   "id": "b2a2c34d",
   "metadata": {},
   "outputs": [],
   "source": [
    "def checkBracket (str):\n",
    "    allRight = True #флаг правильности скобок\n",
    "    bracketStack = [] #стек открытывающих скобок\n",
    "    for zn in str: #посимвольно просматриваем строку\n",
    "        if zn == '(': #если встретили открывающую скобку, то добавляем ее в стек\n",
    "            bracketStack.append('(')\n",
    "        if zn == ')': #если встретили закрывающую скобку\n",
    "            if len(bracketStack) == 0: #то проверяем есть ли не закрытые открывающие скобки\n",
    "                allRight = False #если нет, то скобки расставлены неверно\n",
    "            else:\n",
    "                bracketStack.remove('(') #если да, то удаляем скобку из стека открытых скобок, т.к. она уже закрыта\n",
    "    if len(bracketStack) >0: #если по завершению цикла стек не пустой, то есть не закрытые скобки скобки\n",
    "        allRight = False\n",
    "    return allRight"
   ]
  },
  {
   "cell_type": "code",
   "execution_count": 10,
   "id": "237f65ba",
   "metadata": {},
   "outputs": [
    {
     "name": "stdout",
     "output_type": "stream",
     "text": [
      "True\n",
      "False\n",
      "True\n",
      "False\n"
     ]
    }
   ],
   "source": [
    "testStr1 = '5 * (4 - 2)'\n",
    "print (checkBracket(testStr1))\n",
    "testStr2 = '5 * (4 - 2('\n",
    "print (checkBracket(testStr2))\n",
    "testStr3 = '(3-2)*((4))'\n",
    "print (checkBracket(testStr3))\n",
    "testStr4 = '4*)()'\n",
    "print (checkBracket(testStr4))"
   ]
  },
  {
   "cell_type": "code",
   "execution_count": null,
   "id": "b5dc8056",
   "metadata": {},
   "outputs": [],
   "source": []
  }
 ],
 "metadata": {
  "kernelspec": {
   "display_name": "Python 3 (ipykernel)",
   "language": "python",
   "name": "python3"
  },
  "language_info": {
   "codemirror_mode": {
    "name": "ipython",
    "version": 3
   },
   "file_extension": ".py",
   "mimetype": "text/x-python",
   "name": "python",
   "nbconvert_exporter": "python",
   "pygments_lexer": "ipython3",
   "version": "3.9.7"
  }
 },
 "nbformat": 4,
 "nbformat_minor": 5
}
